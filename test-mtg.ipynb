{
 "cells": [
  {
   "cell_type": "code",
   "execution_count": 1,
   "id": "ec703ec3",
   "metadata": {
    "_cell_guid": "b1076dfc-b9ad-4769-8c92-a6c4dae69d19",
    "_uuid": "8f2839f25d086af736a60e9eeb907d3b93b6e0e5",
    "execution": {
     "iopub.execute_input": "2022-06-07T14:32:59.567411Z",
     "iopub.status.busy": "2022-06-07T14:32:59.566436Z",
     "iopub.status.idle": "2022-06-07T14:33:00.751313Z",
     "shell.execute_reply": "2022-06-07T14:33:00.750288Z"
    },
    "papermill": {
     "duration": 1.201227,
     "end_time": "2022-06-07T14:33:00.754020",
     "exception": false,
     "start_time": "2022-06-07T14:32:59.552793",
     "status": "completed"
    },
    "tags": []
   },
   "outputs": [
    {
     "name": "stdout",
     "output_type": "stream",
     "text": [
      "/kaggle/input/mtg-all-cards/all_mtg_cards.csv\n"
     ]
    }
   ],
   "source": [
    "import numpy as np\n",
    "import pandas as pd\n",
    "import seaborn as sns\n",
    "import matplotlib.pyplot as plt\n",
    "%matplotlib inline\n",
    "from matplotlib import rcParams\n",
    "rcParams['figure.figsize'] = 11.7,8.27\n",
    "import os\n",
    "for dirname, _, filenames in os.walk('/kaggle/input'):\n",
    "    for filename in filenames:\n",
    "        print(os.path.join(dirname, filename))"
   ]
  },
  {
   "cell_type": "code",
   "execution_count": 2,
   "id": "e77350e4",
   "metadata": {
    "execution": {
     "iopub.execute_input": "2022-06-07T14:33:00.777242Z",
     "iopub.status.busy": "2022-06-07T14:33:00.776750Z",
     "iopub.status.idle": "2022-06-07T14:33:06.911239Z",
     "shell.execute_reply": "2022-06-07T14:33:06.908453Z"
    },
    "papermill": {
     "duration": 6.149966,
     "end_time": "2022-06-07T14:33:06.914670",
     "exception": false,
     "start_time": "2022-06-07T14:33:00.764704",
     "status": "completed"
    },
    "tags": []
   },
   "outputs": [
    {
     "name": "stderr",
     "output_type": "stream",
     "text": [
      "/opt/conda/lib/python3.7/site-packages/IPython/core/interactiveshell.py:3552: DtypeWarning: Columns (18) have mixed types.Specify dtype option on import or set low_memory=False.\n",
      "  exec(code_obj, self.user_global_ns, self.user_ns)\n"
     ]
    }
   ],
   "source": [
    "all_mtg_cards = pd.read_csv(\"/kaggle/input/mtg-all-cards/all_mtg_cards.csv\")"
   ]
  },
  {
   "cell_type": "code",
   "execution_count": 3,
   "id": "63777731",
   "metadata": {
    "execution": {
     "iopub.execute_input": "2022-06-07T14:33:06.937524Z",
     "iopub.status.busy": "2022-06-07T14:33:06.937081Z",
     "iopub.status.idle": "2022-06-07T14:33:06.995267Z",
     "shell.execute_reply": "2022-06-07T14:33:06.994242Z"
    },
    "papermill": {
     "duration": 0.072692,
     "end_time": "2022-06-07T14:33:06.997908",
     "exception": false,
     "start_time": "2022-06-07T14:33:06.925216",
     "status": "completed"
    },
    "tags": []
   },
   "outputs": [
    {
     "data": {
      "text/plain": [
       "['B']         3649\n",
       "['W']         3624\n",
       "['R']         3605\n",
       "['U']         3596\n",
       "['G']         3543\n",
       "['B', 'R']     335\n",
       "Name: color_identity, dtype: int64"
      ]
     },
     "execution_count": 3,
     "metadata": {},
     "output_type": "execute_result"
    }
   ],
   "source": [
    "#  Избавляюсь от дубликатов ориентируясь на название карточки\n",
    "non_duplicates = all_mtg_cards.drop_duplicates('name')\n",
    "non_duplicates.color_identity.value_counts().head(6)"
   ]
  },
  {
   "cell_type": "code",
   "execution_count": 4,
   "id": "66ab2934",
   "metadata": {
    "execution": {
     "iopub.execute_input": "2022-06-07T14:33:07.022097Z",
     "iopub.status.busy": "2022-06-07T14:33:07.020792Z",
     "iopub.status.idle": "2022-06-07T14:33:07.199801Z",
     "shell.execute_reply": "2022-06-07T14:33:07.198734Z"
    },
    "papermill": {
     "duration": 0.193621,
     "end_time": "2022-06-07T14:33:07.202372",
     "exception": false,
     "start_time": "2022-06-07T14:33:07.008751",
     "status": "completed"
    },
    "tags": []
   },
   "outputs": [
    {
     "name": "stderr",
     "output_type": "stream",
     "text": [
      "/opt/conda/lib/python3.7/site-packages/ipykernel_launcher.py:13: SettingWithCopyWarning: \n",
      "A value is trying to be set on a copy of a slice from a DataFrame.\n",
      "Try using .loc[row_indexer,col_indexer] = value instead\n",
      "\n",
      "See the caveats in the documentation: https://pandas.pydata.org/pandas-docs/stable/user_guide/indexing.html#returning-a-view-versus-a-copy\n",
      "  del sys.path[0]\n",
      "/opt/conda/lib/python3.7/site-packages/ipykernel_launcher.py:14: SettingWithCopyWarning: \n",
      "A value is trying to be set on a copy of a slice from a DataFrame.\n",
      "Try using .loc[row_indexer,col_indexer] = value instead\n",
      "\n",
      "See the caveats in the documentation: https://pandas.pydata.org/pandas-docs/stable/user_guide/indexing.html#returning-a-view-versus-a-copy\n",
      "  \n",
      "/opt/conda/lib/python3.7/site-packages/ipykernel_launcher.py:15: SettingWithCopyWarning: \n",
      "A value is trying to be set on a copy of a slice from a DataFrame.\n",
      "Try using .loc[row_indexer,col_indexer] = value instead\n",
      "\n",
      "See the caveats in the documentation: https://pandas.pydata.org/pandas-docs/stable/user_guide/indexing.html#returning-a-view-versus-a-copy\n",
      "  from ipykernel import kernelapp as app\n",
      "/opt/conda/lib/python3.7/site-packages/ipykernel_launcher.py:16: SettingWithCopyWarning: \n",
      "A value is trying to be set on a copy of a slice from a DataFrame.\n",
      "Try using .loc[row_indexer,col_indexer] = value instead\n",
      "\n",
      "See the caveats in the documentation: https://pandas.pydata.org/pandas-docs/stable/user_guide/indexing.html#returning-a-view-versus-a-copy\n",
      "  \n"
     ]
    }
   ],
   "source": [
    "# Для мультицветовых карт и карт без цвета выделяю отдельные категории: Multi, None соответственно\n",
    "def color_to_category(x):\n",
    "    try:\n",
    "        size = len(x)\n",
    "        if(size == 0):\n",
    "            return \"None\"\n",
    "        elif(size == 1):\n",
    "            return x[0]\n",
    "        else:\n",
    "            return \"Multi\"\n",
    "    except:\n",
    "        return \"None\"\n",
    "non_duplicates[\"overall_color\"] = non_duplicates[\"color_identity\"].apply(str)\n",
    "non_duplicates[\"overall_color\"] = non_duplicates[\"overall_color\"].apply(lambda x: \"[]\" if x == \"nan\" else x)\n",
    "non_duplicates[\"overall_color\"] = non_duplicates[\"overall_color\"].apply(eval)\n",
    "non_duplicates[\"overall_color\"] = non_duplicates[\"overall_color\"].apply(color_to_category)"
   ]
  },
  {
   "cell_type": "code",
   "execution_count": 5,
   "id": "ec0eaaa7",
   "metadata": {
    "execution": {
     "iopub.execute_input": "2022-06-07T14:33:07.226888Z",
     "iopub.status.busy": "2022-06-07T14:33:07.226180Z",
     "iopub.status.idle": "2022-06-07T14:33:07.251726Z",
     "shell.execute_reply": "2022-06-07T14:33:07.250702Z"
    },
    "papermill": {
     "duration": 0.041305,
     "end_time": "2022-06-07T14:33:07.254434",
     "exception": false,
     "start_time": "2022-06-07T14:33:07.213129",
     "status": "completed"
    },
    "tags": []
   },
   "outputs": [
    {
     "name": "stderr",
     "output_type": "stream",
     "text": [
      "/opt/conda/lib/python3.7/site-packages/ipykernel_launcher.py:17: SettingWithCopyWarning: \n",
      "A value is trying to be set on a copy of a slice from a DataFrame.\n",
      "Try using .loc[row_indexer,col_indexer] = value instead\n",
      "\n",
      "See the caveats in the documentation: https://pandas.pydata.org/pandas-docs/stable/user_guide/indexing.html#returning-a-view-versus-a-copy\n",
      "  app.launch_new_instance()\n"
     ]
    }
   ],
   "source": [
    "#  Присваиваю массу карте в зависимости от редкости где 1 это Uncommon, 2 это Common, 3 это Rare, 4 это Mythic, 5 это Special \n",
    "def mass_rarity(x):\n",
    "    try:\n",
    "        mass = x\n",
    "        if(mass == 'Uncommon'):\n",
    "            return 1\n",
    "        elif(mass == 'Common'):\n",
    "            return 2\n",
    "        elif(mass == 'Rare'):\n",
    "            return 3\n",
    "        elif(mass == 'Mythic'):\n",
    "            return 4\n",
    "        elif(mass == 'Special'):\n",
    "            return 5\n",
    "    except:\n",
    "        pass\n",
    "non_duplicates[\"mass_rarity\"] = non_duplicates[\"rarity\"].apply(mass_rarity)"
   ]
  },
  {
   "cell_type": "code",
   "execution_count": 6,
   "id": "f6f1531f",
   "metadata": {
    "execution": {
     "iopub.execute_input": "2022-06-07T14:33:07.278224Z",
     "iopub.status.busy": "2022-06-07T14:33:07.277777Z",
     "iopub.status.idle": "2022-06-07T14:33:07.291357Z",
     "shell.execute_reply": "2022-06-07T14:33:07.290173Z"
    },
    "papermill": {
     "duration": 0.028443,
     "end_time": "2022-06-07T14:33:07.293972",
     "exception": false,
     "start_time": "2022-06-07T14:33:07.265529",
     "status": "completed"
    },
    "tags": []
   },
   "outputs": [],
   "source": [
    "#  Для удобства создаю отдельный датафрейм\n",
    "overall_color = pd.get_dummies(non_duplicates.overall_color)\n",
    "rarity = pd.DataFrame(non_duplicates.rarity)\n",
    "name = pd.DataFrame(non_duplicates.name)\n",
    "rarity_color = pd.concat([name, overall_color, rarity],axis=1)\n",
    "#rarity_color = pd.concat([rarity_color, non_duplicates.mass_rarity],axis=1)"
   ]
  },
  {
   "cell_type": "markdown",
   "id": "ef15fbfa",
   "metadata": {
    "papermill": {
     "duration": 0.010728,
     "end_time": "2022-06-07T14:33:07.315710",
     "exception": false,
     "start_time": "2022-06-07T14:33:07.304982",
     "status": "completed"
    },
    "tags": []
   },
   "source": [
    "#  1. Распределение карт по цвету в зависимости от редкости"
   ]
  },
  {
   "cell_type": "code",
   "execution_count": 7,
   "id": "70eb4427",
   "metadata": {
    "execution": {
     "iopub.execute_input": "2022-06-07T14:33:07.340209Z",
     "iopub.status.busy": "2022-06-07T14:33:07.339765Z",
     "iopub.status.idle": "2022-06-07T14:33:07.373499Z",
     "shell.execute_reply": "2022-06-07T14:33:07.372655Z"
    },
    "papermill": {
     "duration": 0.048424,
     "end_time": "2022-06-07T14:33:07.375492",
     "exception": false,
     "start_time": "2022-06-07T14:33:07.327068",
     "status": "completed"
    },
    "tags": []
   },
   "outputs": [
    {
     "data": {
      "text/html": [
       "<div>\n",
       "<style scoped>\n",
       "    .dataframe tbody tr th:only-of-type {\n",
       "        vertical-align: middle;\n",
       "    }\n",
       "\n",
       "    .dataframe tbody tr th {\n",
       "        vertical-align: top;\n",
       "    }\n",
       "\n",
       "    .dataframe thead th {\n",
       "        text-align: right;\n",
       "    }\n",
       "</style>\n",
       "<table border=\"1\" class=\"dataframe\">\n",
       "  <thead>\n",
       "    <tr style=\"text-align: right;\">\n",
       "      <th></th>\n",
       "      <th>B</th>\n",
       "      <th>G</th>\n",
       "      <th>Multi</th>\n",
       "      <th>None</th>\n",
       "      <th>R</th>\n",
       "      <th>U</th>\n",
       "      <th>W</th>\n",
       "    </tr>\n",
       "    <tr>\n",
       "      <th>rarity</th>\n",
       "      <th></th>\n",
       "      <th></th>\n",
       "      <th></th>\n",
       "      <th></th>\n",
       "      <th></th>\n",
       "      <th></th>\n",
       "      <th></th>\n",
       "    </tr>\n",
       "  </thead>\n",
       "  <tbody>\n",
       "    <tr>\n",
       "      <th>Common</th>\n",
       "      <td>1437.0</td>\n",
       "      <td>1407.0</td>\n",
       "      <td>662.0</td>\n",
       "      <td>628.0</td>\n",
       "      <td>1417.0</td>\n",
       "      <td>1412.0</td>\n",
       "      <td>1452.0</td>\n",
       "    </tr>\n",
       "    <tr>\n",
       "      <th>Mythic</th>\n",
       "      <td>136.0</td>\n",
       "      <td>129.0</td>\n",
       "      <td>482.0</td>\n",
       "      <td>100.0</td>\n",
       "      <td>134.0</td>\n",
       "      <td>133.0</td>\n",
       "      <td>132.0</td>\n",
       "    </tr>\n",
       "    <tr>\n",
       "      <th>Rare</th>\n",
       "      <td>1036.0</td>\n",
       "      <td>975.0</td>\n",
       "      <td>1281.0</td>\n",
       "      <td>973.0</td>\n",
       "      <td>1011.0</td>\n",
       "      <td>1026.0</td>\n",
       "      <td>1002.0</td>\n",
       "    </tr>\n",
       "    <tr>\n",
       "      <th>Special</th>\n",
       "      <td>0.0</td>\n",
       "      <td>0.0</td>\n",
       "      <td>0.0</td>\n",
       "      <td>2.0</td>\n",
       "      <td>2.0</td>\n",
       "      <td>0.0</td>\n",
       "      <td>1.0</td>\n",
       "    </tr>\n",
       "    <tr>\n",
       "      <th>Uncommon</th>\n",
       "      <td>1040.0</td>\n",
       "      <td>1032.0</td>\n",
       "      <td>1188.0</td>\n",
       "      <td>788.0</td>\n",
       "      <td>1041.0</td>\n",
       "      <td>1025.0</td>\n",
       "      <td>1037.0</td>\n",
       "    </tr>\n",
       "  </tbody>\n",
       "</table>\n",
       "</div>"
      ],
      "text/plain": [
       "               B       G   Multi   None       R       U       W\n",
       "rarity                                                         \n",
       "Common    1437.0  1407.0   662.0  628.0  1417.0  1412.0  1452.0\n",
       "Mythic     136.0   129.0   482.0  100.0   134.0   133.0   132.0\n",
       "Rare      1036.0   975.0  1281.0  973.0  1011.0  1026.0  1002.0\n",
       "Special      0.0     0.0     0.0    2.0     2.0     0.0     1.0\n",
       "Uncommon  1040.0  1032.0  1188.0  788.0  1041.0  1025.0  1037.0"
      ]
     },
     "execution_count": 7,
     "metadata": {},
     "output_type": "execute_result"
    }
   ],
   "source": [
    "df = rarity_color.groupby('rarity').sum()\n",
    "df"
   ]
  },
  {
   "cell_type": "markdown",
   "id": "895105f5",
   "metadata": {
    "papermill": {
     "duration": 0.011202,
     "end_time": "2022-06-07T14:33:07.397955",
     "exception": false,
     "start_time": "2022-06-07T14:33:07.386753",
     "status": "completed"
    },
    "tags": []
   },
   "source": [
    "#  -------------------------------------------------------------------------------------------------------------------------"
   ]
  },
  {
   "cell_type": "code",
   "execution_count": 8,
   "id": "f19d0c3f",
   "metadata": {
    "execution": {
     "iopub.execute_input": "2022-06-07T14:33:07.422908Z",
     "iopub.status.busy": "2022-06-07T14:33:07.422210Z",
     "iopub.status.idle": "2022-06-07T14:33:07.426144Z",
     "shell.execute_reply": "2022-06-07T14:33:07.425394Z"
    },
    "papermill": {
     "duration": 0.018764,
     "end_time": "2022-06-07T14:33:07.428172",
     "exception": false,
     "start_time": "2022-06-07T14:33:07.409408",
     "status": "completed"
    },
    "tags": []
   },
   "outputs": [],
   "source": [
    "#non_duplicates.columns\n",
    "#for i in non_duplicates:\n",
    "#    df_filter = pd.DataFrame(non_duplicates[i]).head(10)\n",
    "#    print(df_filter)"
   ]
  },
  {
   "cell_type": "code",
   "execution_count": 9,
   "id": "af52df10",
   "metadata": {
    "execution": {
     "iopub.execute_input": "2022-06-07T14:33:07.452474Z",
     "iopub.status.busy": "2022-06-07T14:33:07.451804Z",
     "iopub.status.idle": "2022-06-07T14:33:07.501967Z",
     "shell.execute_reply": "2022-06-07T14:33:07.500909Z"
    },
    "papermill": {
     "duration": 0.065054,
     "end_time": "2022-06-07T14:33:07.504374",
     "exception": false,
     "start_time": "2022-06-07T14:33:07.439320",
     "status": "completed"
    },
    "tags": []
   },
   "outputs": [
    {
     "name": "stderr",
     "output_type": "stream",
     "text": [
      "/opt/conda/lib/python3.7/site-packages/ipykernel_launcher.py:12: SettingWithCopyWarning: \n",
      "A value is trying to be set on a copy of a slice from a DataFrame.\n",
      "Try using .loc[row_indexer,col_indexer] = value instead\n",
      "\n",
      "See the caveats in the documentation: https://pandas.pydata.org/pandas-docs/stable/user_guide/indexing.html#returning-a-view-versus-a-copy\n",
      "  if sys.path[0] == \"\":\n"
     ]
    }
   ],
   "source": [
    "# Создаю колонку 'commander', так как интерес представляют запрещенные карты 0 - это карта в формате Commander разрешена, 1 - запрещена\n",
    "import re\n",
    "def legalities_if_true(x):\n",
    "    try:\n",
    "        legalities = x\n",
    "        if re.search(r\"'format': 'Commander', 'legality': 'Legal'\", x):\n",
    "            return 0\n",
    "        else:\n",
    "            return 1\n",
    "    except:\n",
    "        pass\n",
    "non_duplicates[\"commander\"] = non_duplicates[\"legalities\"].apply(legalities_if_true)"
   ]
  },
  {
   "cell_type": "code",
   "execution_count": 10,
   "id": "bd6f1ce1",
   "metadata": {
    "execution": {
     "iopub.execute_input": "2022-06-07T14:33:07.529509Z",
     "iopub.status.busy": "2022-06-07T14:33:07.529047Z",
     "iopub.status.idle": "2022-06-07T14:33:07.536915Z",
     "shell.execute_reply": "2022-06-07T14:33:07.535852Z"
    },
    "papermill": {
     "duration": 0.02302,
     "end_time": "2022-06-07T14:33:07.539196",
     "exception": false,
     "start_time": "2022-06-07T14:33:07.516176",
     "status": "completed"
    },
    "tags": []
   },
   "outputs": [
    {
     "data": {
      "text/plain": [
       "23151"
      ]
     },
     "execution_count": 10,
     "metadata": {},
     "output_type": "execute_result"
    }
   ],
   "source": [
    "#  Количество карт разрешенных в формате 'commander'\n",
    "non_duplicates.commander.count()"
   ]
  },
  {
   "cell_type": "code",
   "execution_count": 11,
   "id": "d63efb28",
   "metadata": {
    "execution": {
     "iopub.execute_input": "2022-06-07T14:33:07.564097Z",
     "iopub.status.busy": "2022-06-07T14:33:07.563668Z",
     "iopub.status.idle": "2022-06-07T14:33:07.578519Z",
     "shell.execute_reply": "2022-06-07T14:33:07.577411Z"
    },
    "papermill": {
     "duration": 0.030288,
     "end_time": "2022-06-07T14:33:07.580879",
     "exception": false,
     "start_time": "2022-06-07T14:33:07.550591",
     "status": "completed"
    },
    "tags": []
   },
   "outputs": [
    {
     "data": {
      "text/plain": [
       "Instant                                2790\n",
       "Sorcery                                2594\n",
       "Enchantment                            1442\n",
       "Artifact                               1122\n",
       "Enchantment — Aura                     1008\n",
       "                                       ... \n",
       "Artifact Creature — Food Golem            1\n",
       "Creature — Elf Knight Ranger              1\n",
       "Creature — Skeleton Knight                1\n",
       "Legendary Planeswalker — Will Rowan       1\n",
       "Creature — Cat Horror                     1\n",
       "Name: type, Length: 2369, dtype: int64"
      ]
     },
     "execution_count": 11,
     "metadata": {},
     "output_type": "execute_result"
    }
   ],
   "source": [
    "non_duplicates.type.value_counts()\n",
    "#  Из оффицальной wiki mgt \n",
    "#  Всего типов карт в MTG семь: \n",
    "#  Земля (Land), \n",
    "#  Существо (Creature), \n",
    "#  Артефакт (Artifact), \n",
    "#  Чары (Enchantment), \n",
    "#  Волшебство (Sorcery), \n",
    "#  Мгновенное заклинание (Instant) и \n",
    "#  Planeswalker. \n",
    "#  Земли, Существа, Артефакты, Чары и Planeswalker’ы — это перманенты, то есть карты, которые после разыгрывания остаются на поле боя\n",
    "#  На это и ориентируюсь"
   ]
  },
  {
   "cell_type": "code",
   "execution_count": 12,
   "id": "1acb07de",
   "metadata": {
    "execution": {
     "iopub.execute_input": "2022-06-07T14:33:07.606338Z",
     "iopub.status.busy": "2022-06-07T14:33:07.605921Z",
     "iopub.status.idle": "2022-06-07T14:33:07.702570Z",
     "shell.execute_reply": "2022-06-07T14:33:07.701191Z"
    },
    "papermill": {
     "duration": 0.112367,
     "end_time": "2022-06-07T14:33:07.705027",
     "exception": false,
     "start_time": "2022-06-07T14:33:07.592660",
     "status": "completed"
    },
    "tags": []
   },
   "outputs": [
    {
     "name": "stderr",
     "output_type": "stream",
     "text": [
      "/opt/conda/lib/python3.7/site-packages/ipykernel_launcher.py:22: SettingWithCopyWarning: \n",
      "A value is trying to be set on a copy of a slice from a DataFrame.\n",
      "Try using .loc[row_indexer,col_indexer] = value instead\n",
      "\n",
      "See the caveats in the documentation: https://pandas.pydata.org/pandas-docs/stable/user_guide/indexing.html#returning-a-view-versus-a-copy\n"
     ]
    }
   ],
   "source": [
    "#  Создаю колонку 'main_types' в которую будут входить 7 выше перечисленных типов карт\n",
    "def sort_main_types(x):\n",
    "    try:\n",
    "        if re.search(r\"Land\", x):\n",
    "            return 'Land'\n",
    "        elif re.search(r\"Creature\", x):\n",
    "            return 'Creature'\n",
    "        elif re.search(r\"Artifact\", x):\n",
    "            return 'Artifact'\n",
    "        elif re.search(r\"Enchantment\", x):\n",
    "            return 'Enchantment'\n",
    "        elif re.search(r\"Sorcery\", x):\n",
    "            return 'Sorcery'\n",
    "        elif re.search(r\"Instant\", x):\n",
    "            return 'Instant'\n",
    "        elif re.search(r\"Planeswalker\", x):\n",
    "            return 'Planeswalker'\n",
    "        else:\n",
    "            return \n",
    "    except:\n",
    "        return \n",
    "non_duplicates[\"main_types\"] = non_duplicates[\"type\"].apply(sort_main_types)\n",
    "    "
   ]
  },
  {
   "cell_type": "code",
   "execution_count": 13,
   "id": "894a9caa",
   "metadata": {
    "execution": {
     "iopub.execute_input": "2022-06-07T14:33:07.730337Z",
     "iopub.status.busy": "2022-06-07T14:33:07.729863Z",
     "iopub.status.idle": "2022-06-07T14:33:07.741844Z",
     "shell.execute_reply": "2022-06-07T14:33:07.740850Z"
    },
    "papermill": {
     "duration": 0.027265,
     "end_time": "2022-06-07T14:33:07.743974",
     "exception": false,
     "start_time": "2022-06-07T14:33:07.716709",
     "status": "completed"
    },
    "tags": []
   },
   "outputs": [
    {
     "data": {
      "text/plain": [
       "Creature        12823\n",
       "Instant          2900\n",
       "Enchantment      2672\n",
       "Sorcery          2669\n",
       "Artifact         1670\n",
       "Land              810\n",
       "Planeswalker      261\n",
       "Name: main_types, dtype: int64"
      ]
     },
     "execution_count": 13,
     "metadata": {},
     "output_type": "execute_result"
    }
   ],
   "source": [
    "#  Получил отсортированные по типам карты\n",
    "non_duplicates.main_types.value_counts()"
   ]
  },
  {
   "cell_type": "markdown",
   "id": "08ccbf0e",
   "metadata": {
    "papermill": {
     "duration": 0.011511,
     "end_time": "2022-06-07T14:33:07.767495",
     "exception": false,
     "start_time": "2022-06-07T14:33:07.755984",
     "status": "completed"
    },
    "tags": []
   },
   "source": [
    "#  2 Процент карт, запрещенных в формате Commander, а также распределение по типу для этих карт"
   ]
  },
  {
   "cell_type": "code",
   "execution_count": 14,
   "id": "3ea549fa",
   "metadata": {
    "execution": {
     "iopub.execute_input": "2022-06-07T14:33:07.793213Z",
     "iopub.status.busy": "2022-06-07T14:33:07.792739Z",
     "iopub.status.idle": "2022-06-07T14:33:07.804588Z",
     "shell.execute_reply": "2022-06-07T14:33:07.803592Z"
    },
    "papermill": {
     "duration": 0.027322,
     "end_time": "2022-06-07T14:33:07.806706",
     "exception": false,
     "start_time": "2022-06-07T14:33:07.779384",
     "status": "completed"
    },
    "tags": []
   },
   "outputs": [
    {
     "data": {
      "text/plain": [
       "4.021392147920898"
      ]
     },
     "execution_count": 14,
     "metadata": {},
     "output_type": "execute_result"
    }
   ],
   "source": [
    "count = non_duplicates.name.count() # Колличество уникальных карт\n",
    "banned_commander = count - non_duplicates.commander.count() # Колличество запрещенных в формате Commander карт\n",
    "procent_ban_commander = banned_commander / count * 100\n",
    "procent_ban_commander"
   ]
  },
  {
   "cell_type": "markdown",
   "id": "1aa54b91",
   "metadata": {
    "papermill": {
     "duration": 0.011774,
     "end_time": "2022-06-07T14:33:07.830830",
     "exception": false,
     "start_time": "2022-06-07T14:33:07.819056",
     "status": "completed"
    },
    "tags": []
   },
   "source": [
    "# Процент карт, запрещенных в формате Commander равен 4.02%"
   ]
  },
  {
   "cell_type": "code",
   "execution_count": 15,
   "id": "6f1cc915",
   "metadata": {
    "execution": {
     "iopub.execute_input": "2022-06-07T14:33:07.857122Z",
     "iopub.status.busy": "2022-06-07T14:33:07.856429Z",
     "iopub.status.idle": "2022-06-07T14:33:07.864216Z",
     "shell.execute_reply": "2022-06-07T14:33:07.863364Z"
    },
    "papermill": {
     "duration": 0.023166,
     "end_time": "2022-06-07T14:33:07.866068",
     "exception": false,
     "start_time": "2022-06-07T14:33:07.842902",
     "status": "completed"
    },
    "tags": []
   },
   "outputs": [],
   "source": [
    "main_types = pd.DataFrame(non_duplicates.main_types)\n",
    "commander = pd.DataFrame(non_duplicates.commander)\n",
    "precent_of_ban_from_type = pd.concat([commander, main_types],axis=1)"
   ]
  },
  {
   "cell_type": "markdown",
   "id": "0b99f83b",
   "metadata": {
    "papermill": {
     "duration": 0.011512,
     "end_time": "2022-06-07T14:33:07.889540",
     "exception": false,
     "start_time": "2022-06-07T14:33:07.878028",
     "status": "completed"
    },
    "tags": []
   },
   "source": [
    "#  Распределение карт по типу для запрещенных в формате Commander"
   ]
  },
  {
   "cell_type": "code",
   "execution_count": 16,
   "id": "da93afaf",
   "metadata": {
    "execution": {
     "iopub.execute_input": "2022-06-07T14:33:07.915670Z",
     "iopub.status.busy": "2022-06-07T14:33:07.914991Z",
     "iopub.status.idle": "2022-06-07T14:33:08.546909Z",
     "shell.execute_reply": "2022-06-07T14:33:08.546133Z"
    },
    "papermill": {
     "duration": 0.64742,
     "end_time": "2022-06-07T14:33:08.548883",
     "exception": false,
     "start_time": "2022-06-07T14:33:07.901463",
     "status": "completed"
    },
    "tags": []
   },
   "outputs": [
    {
     "data": {
      "text/plain": [
       "<AxesSubplot:xlabel='commander', ylabel='main_types'>"
      ]
     },
     "execution_count": 16,
     "metadata": {},
     "output_type": "execute_result"
    },
    {
     "data": {
      "image/png": "[encoded data removed]",
      "text/plain": [
       "<Figure size 842.4x595.44 with 1 Axes>"
      ]
     },
     "metadata": {
      "needs_background": "light"
     },
     "output_type": "display_data"
    }
   ],
   "source": [
    "#  barplot показывающий распределение запрещенных в формате Commander в зависимости от типа карт\n",
    "sns.barplot(data=precent_of_ban_from_type, x=\"commander\", y=\"main_types\", estimator=np.sum)"
   ]
  },
  {
   "cell_type": "markdown",
   "id": "1da19c93",
   "metadata": {
    "papermill": {
     "duration": 0.012044,
     "end_time": "2022-06-07T14:33:08.574862",
     "exception": false,
     "start_time": "2022-06-07T14:33:08.562818",
     "status": "completed"
    },
    "tags": []
   },
   "source": [
    "#  -------------------------------------------------------------------------------------------------------------------------"
   ]
  },
  {
   "cell_type": "code",
   "execution_count": 17,
   "id": "97a24042",
   "metadata": {
    "execution": {
     "iopub.execute_input": "2022-06-07T14:33:08.602275Z",
     "iopub.status.busy": "2022-06-07T14:33:08.601360Z",
     "iopub.status.idle": "2022-06-07T14:33:08.721981Z",
     "shell.execute_reply": "2022-06-07T14:33:08.721022Z"
    },
    "papermill": {
     "duration": 0.13698,
     "end_time": "2022-06-07T14:33:08.724712",
     "exception": false,
     "start_time": "2022-06-07T14:33:08.587732",
     "status": "completed"
    },
    "tags": []
   },
   "outputs": [],
   "source": [
    "#  Так как меня интересует Топ-10 карт, не являющихся землями - избавляемся от этих карт(land)\n",
    "\n",
    "\n",
    "non_land_df = non_duplicates.set_index('main_types').drop(['Land'], axis=0)"
   ]
  },
  {
   "cell_type": "code",
   "execution_count": 18,
   "id": "3b1e6c89",
   "metadata": {
    "execution": {
     "iopub.execute_input": "2022-06-07T14:33:08.752146Z",
     "iopub.status.busy": "2022-06-07T14:33:08.751311Z",
     "iopub.status.idle": "2022-06-07T14:33:08.800034Z",
     "shell.execute_reply": "2022-06-07T14:33:08.799128Z"
    },
    "papermill": {
     "duration": 0.06511,
     "end_time": "2022-06-07T14:33:08.802445",
     "exception": false,
     "start_time": "2022-06-07T14:33:08.737335",
     "status": "completed"
    },
    "tags": []
   },
   "outputs": [],
   "source": [
    "#  Мне интересна колонка printings, так как в ней указаны сеты в которых печатальсь карты\n",
    "\n",
    "\n",
    "def count_printings(x):\n",
    "    return len(x)\n",
    "non_land_df['count_printings'] = non_land_df['printings'].str.split(',')\n",
    "non_land_df['count_printings'] = non_land_df['count_printings'].apply(count_printings) # в колонке count_printings будет указано в скольких наборах применялась данная карточка"
   ]
  },
  {
   "cell_type": "code",
   "execution_count": 19,
   "id": "f874d46c",
   "metadata": {
    "execution": {
     "iopub.execute_input": "2022-06-07T14:33:08.829827Z",
     "iopub.status.busy": "2022-06-07T14:33:08.828612Z",
     "iopub.status.idle": "2022-06-07T14:33:08.853922Z",
     "shell.execute_reply": "2022-06-07T14:33:08.852782Z"
    },
    "papermill": {
     "duration": 0.04164,
     "end_time": "2022-06-07T14:33:08.856442",
     "exception": false,
     "start_time": "2022-06-07T14:33:08.814802",
     "status": "completed"
    },
    "tags": []
   },
   "outputs": [],
   "source": [
    "# Сотрирую датафрейм по убыванию от часто упоминаемых карт\n",
    "\n",
    "sort_non_land_df = non_land_df.sort_values(by=['count_printings'], ascending=False)"
   ]
  },
  {
   "cell_type": "markdown",
   "id": "875bde80",
   "metadata": {
    "papermill": {
     "duration": 0.012085,
     "end_time": "2022-06-07T14:33:08.881023",
     "exception": false,
     "start_time": "2022-06-07T14:33:08.868938",
     "status": "completed"
    },
    "tags": []
   },
   "source": [
    "#  3 Топ-10 карт, не являющихся землями, которые были напечатаны в наибольшем количестве сетов"
   ]
  },
  {
   "cell_type": "code",
   "execution_count": 20,
   "id": "1bf4e5cd",
   "metadata": {
    "execution": {
     "iopub.execute_input": "2022-06-07T14:33:08.908067Z",
     "iopub.status.busy": "2022-06-07T14:33:08.907243Z",
     "iopub.status.idle": "2022-06-07T14:33:08.919846Z",
     "shell.execute_reply": "2022-06-07T14:33:08.918807Z"
    },
    "papermill": {
     "duration": 0.028472,
     "end_time": "2022-06-07T14:33:08.921955",
     "exception": false,
     "start_time": "2022-06-07T14:33:08.893483",
     "status": "completed"
    },
    "tags": []
   },
   "outputs": [
    {
     "data": {
      "text/html": [
       "<div>\n",
       "<style scoped>\n",
       "    .dataframe tbody tr th:only-of-type {\n",
       "        vertical-align: middle;\n",
       "    }\n",
       "\n",
       "    .dataframe tbody tr th {\n",
       "        vertical-align: top;\n",
       "    }\n",
       "\n",
       "    .dataframe thead th {\n",
       "        text-align: right;\n",
       "    }\n",
       "</style>\n",
       "<table border=\"1\" class=\"dataframe\">\n",
       "  <thead>\n",
       "    <tr style=\"text-align: right;\">\n",
       "      <th></th>\n",
       "      <th>name</th>\n",
       "      <th>count_printings</th>\n",
       "    </tr>\n",
       "    <tr>\n",
       "      <th>main_types</th>\n",
       "      <th></th>\n",
       "      <th></th>\n",
       "    </tr>\n",
       "  </thead>\n",
       "  <tbody>\n",
       "    <tr>\n",
       "      <th>Instant</th>\n",
       "      <td>Giant Growth</td>\n",
       "      <td>47</td>\n",
       "    </tr>\n",
       "    <tr>\n",
       "      <th>Instant</th>\n",
       "      <td>Counterspell</td>\n",
       "      <td>46</td>\n",
       "    </tr>\n",
       "    <tr>\n",
       "      <th>Creature</th>\n",
       "      <td>Serra Angel</td>\n",
       "      <td>42</td>\n",
       "    </tr>\n",
       "    <tr>\n",
       "      <th>Instant</th>\n",
       "      <td>Swords to Plowshares</td>\n",
       "      <td>42</td>\n",
       "    </tr>\n",
       "    <tr>\n",
       "      <th>Instant</th>\n",
       "      <td>Dark Ritual</td>\n",
       "      <td>41</td>\n",
       "    </tr>\n",
       "    <tr>\n",
       "      <th>Artifact</th>\n",
       "      <td>Sol Ring</td>\n",
       "      <td>41</td>\n",
       "    </tr>\n",
       "    <tr>\n",
       "      <th>Instant</th>\n",
       "      <td>Disenchant</td>\n",
       "      <td>41</td>\n",
       "    </tr>\n",
       "    <tr>\n",
       "      <th>Creature</th>\n",
       "      <td>Llanowar Elves</td>\n",
       "      <td>40</td>\n",
       "    </tr>\n",
       "    <tr>\n",
       "      <th>Sorcery</th>\n",
       "      <td>Fireball</td>\n",
       "      <td>35</td>\n",
       "    </tr>\n",
       "    <tr>\n",
       "      <th>Creature</th>\n",
       "      <td>Air Elemental</td>\n",
       "      <td>33</td>\n",
       "    </tr>\n",
       "  </tbody>\n",
       "</table>\n",
       "</div>"
      ],
      "text/plain": [
       "                            name  count_printings\n",
       "main_types                                       \n",
       "Instant             Giant Growth               47\n",
       "Instant             Counterspell               46\n",
       "Creature             Serra Angel               42\n",
       "Instant     Swords to Plowshares               42\n",
       "Instant              Dark Ritual               41\n",
       "Artifact                Sol Ring               41\n",
       "Instant               Disenchant               41\n",
       "Creature          Llanowar Elves               40\n",
       "Sorcery                 Fireball               35\n",
       "Creature           Air Elemental               33"
      ]
     },
     "execution_count": 20,
     "metadata": {},
     "output_type": "execute_result"
    }
   ],
   "source": [
    "top_ten = sort_non_land_df.head(10)\n",
    "pd.DataFrame(top_ten[['name', 'count_printings']])"
   ]
  },
  {
   "cell_type": "code",
   "execution_count": 21,
   "id": "4fcea2d8",
   "metadata": {
    "execution": {
     "iopub.execute_input": "2022-06-07T14:33:08.949479Z",
     "iopub.status.busy": "2022-06-07T14:33:08.948686Z",
     "iopub.status.idle": "2022-06-07T14:33:09.186463Z",
     "shell.execute_reply": "2022-06-07T14:33:09.185661Z"
    },
    "papermill": {
     "duration": 0.254184,
     "end_time": "2022-06-07T14:33:09.188653",
     "exception": false,
     "start_time": "2022-06-07T14:33:08.934469",
     "status": "completed"
    },
    "tags": []
   },
   "outputs": [
    {
     "data": {
      "text/plain": [
       "<AxesSubplot:xlabel='count_printings', ylabel='name'>"
      ]
     },
     "execution_count": 21,
     "metadata": {},
     "output_type": "execute_result"
    },
    {
     "data": {
      "image/png": "[encoded data removed]",
      "text/plain": [
       "<Figure size 842.4x595.44 with 1 Axes>"
      ]
     },
     "metadata": {
      "needs_background": "light"
     },
     "output_type": "display_data"
    }
   ],
   "source": [
    "sns.barplot(data=top_ten, x=\"count_printings\", y=\"name\", estimator=np.sum)"
   ]
  },
  {
   "cell_type": "markdown",
   "id": "c5220f89",
   "metadata": {
    "papermill": {
     "duration": 0.012887,
     "end_time": "2022-06-07T14:33:09.215025",
     "exception": false,
     "start_time": "2022-06-07T14:33:09.202138",
     "status": "completed"
    },
    "tags": []
   },
   "source": [
    "#  -------------------------------------------------------------------------------------------------------------------------"
   ]
  },
  {
   "cell_type": "code",
   "execution_count": 22,
   "id": "267739a9",
   "metadata": {
    "execution": {
     "iopub.execute_input": "2022-06-07T14:33:09.243527Z",
     "iopub.status.busy": "2022-06-07T14:33:09.242396Z",
     "iopub.status.idle": "2022-06-07T14:33:09.288051Z",
     "shell.execute_reply": "2022-06-07T14:33:09.286970Z"
    },
    "papermill": {
     "duration": 0.062141,
     "end_time": "2022-06-07T14:33:09.290361",
     "exception": false,
     "start_time": "2022-06-07T14:33:09.228220",
     "status": "completed"
    },
    "tags": []
   },
   "outputs": [
    {
     "data": {
      "text/html": [
       "<div>\n",
       "<style scoped>\n",
       "    .dataframe tbody tr th:only-of-type {\n",
       "        vertical-align: middle;\n",
       "    }\n",
       "\n",
       "    .dataframe tbody tr th {\n",
       "        vertical-align: top;\n",
       "    }\n",
       "\n",
       "    .dataframe thead th {\n",
       "        text-align: right;\n",
       "    }\n",
       "</style>\n",
       "<table border=\"1\" class=\"dataframe\">\n",
       "  <thead>\n",
       "    <tr style=\"text-align: right;\">\n",
       "      <th></th>\n",
       "      <th>main_types</th>\n",
       "      <th>name</th>\n",
       "      <th>multiverse_id</th>\n",
       "      <th>layout</th>\n",
       "      <th>names</th>\n",
       "      <th>mana_cost</th>\n",
       "      <th>cmc</th>\n",
       "      <th>colors</th>\n",
       "      <th>color_identity</th>\n",
       "      <th>type</th>\n",
       "      <th>...</th>\n",
       "      <th>legalities</th>\n",
       "      <th>source</th>\n",
       "      <th>image_url</th>\n",
       "      <th>set</th>\n",
       "      <th>set_name</th>\n",
       "      <th>id</th>\n",
       "      <th>overall_color</th>\n",
       "      <th>mass_rarity</th>\n",
       "      <th>commander</th>\n",
       "      <th>count_printings</th>\n",
       "    </tr>\n",
       "  </thead>\n",
       "  <tbody>\n",
       "    <tr>\n",
       "      <th>0</th>\n",
       "      <td>Creature</td>\n",
       "      <td>Ancestor's Chosen</td>\n",
       "      <td>130550.0</td>\n",
       "      <td>normal</td>\n",
       "      <td>NaN</td>\n",
       "      <td>{5}{W}{W}</td>\n",
       "      <td>7.0</td>\n",
       "      <td>['White']</td>\n",
       "      <td>['W']</td>\n",
       "      <td>Creature — Human Cleric</td>\n",
       "      <td>...</td>\n",
       "      <td>[{'format': 'Commander', 'legality': 'Legal'},...</td>\n",
       "      <td>NaN</td>\n",
       "      <td>http://gatherer.wizards.com/Handlers/Image.ash...</td>\n",
       "      <td>10E</td>\n",
       "      <td>Tenth Edition</td>\n",
       "      <td>5f8287b1-5bb6-5f4c-ad17-316a40d5bb0c</td>\n",
       "      <td>W</td>\n",
       "      <td>1</td>\n",
       "      <td>0.0</td>\n",
       "      <td>3</td>\n",
       "    </tr>\n",
       "    <tr>\n",
       "      <th>1</th>\n",
       "      <td>Creature</td>\n",
       "      <td>Angel of Mercy</td>\n",
       "      <td>129465.0</td>\n",
       "      <td>normal</td>\n",
       "      <td>NaN</td>\n",
       "      <td>{4}{W}</td>\n",
       "      <td>5.0</td>\n",
       "      <td>['White']</td>\n",
       "      <td>['W']</td>\n",
       "      <td>Creature — Angel</td>\n",
       "      <td>...</td>\n",
       "      <td>[{'format': 'Commander', 'legality': 'Legal'},...</td>\n",
       "      <td>NaN</td>\n",
       "      <td>http://gatherer.wizards.com/Handlers/Image.ash...</td>\n",
       "      <td>10E</td>\n",
       "      <td>Tenth Edition</td>\n",
       "      <td>57aaebc1-850c-503d-9f6e-bb8d00d8bf7c</td>\n",
       "      <td>W</td>\n",
       "      <td>1</td>\n",
       "      <td>0.0</td>\n",
       "      <td>13</td>\n",
       "    </tr>\n",
       "    <tr>\n",
       "      <th>2</th>\n",
       "      <td>Sorcery</td>\n",
       "      <td>Angelic Blessing</td>\n",
       "      <td>129711.0</td>\n",
       "      <td>normal</td>\n",
       "      <td>NaN</td>\n",
       "      <td>{2}{W}</td>\n",
       "      <td>3.0</td>\n",
       "      <td>['White']</td>\n",
       "      <td>['W']</td>\n",
       "      <td>Sorcery</td>\n",
       "      <td>...</td>\n",
       "      <td>[{'format': 'Commander', 'legality': 'Legal'},...</td>\n",
       "      <td>NaN</td>\n",
       "      <td>http://gatherer.wizards.com/Handlers/Image.ash...</td>\n",
       "      <td>10E</td>\n",
       "      <td>Tenth Edition</td>\n",
       "      <td>55bd38ca-dc73-5c06-8f80-a6ddd2f44382</td>\n",
       "      <td>W</td>\n",
       "      <td>2</td>\n",
       "      <td>0.0</td>\n",
       "      <td>9</td>\n",
       "    </tr>\n",
       "    <tr>\n",
       "      <th>3</th>\n",
       "      <td>Enchantment</td>\n",
       "      <td>Angelic Chorus</td>\n",
       "      <td>129710.0</td>\n",
       "      <td>normal</td>\n",
       "      <td>NaN</td>\n",
       "      <td>{3}{W}{W}</td>\n",
       "      <td>5.0</td>\n",
       "      <td>['White']</td>\n",
       "      <td>['W']</td>\n",
       "      <td>Enchantment</td>\n",
       "      <td>...</td>\n",
       "      <td>[{'format': 'Commander', 'legality': 'Legal'},...</td>\n",
       "      <td>NaN</td>\n",
       "      <td>http://gatherer.wizards.com/Handlers/Image.ash...</td>\n",
       "      <td>10E</td>\n",
       "      <td>Tenth Edition</td>\n",
       "      <td>3b77bb52-4181-57f5-b3cd-f3a15b95aa29</td>\n",
       "      <td>W</td>\n",
       "      <td>3</td>\n",
       "      <td>0.0</td>\n",
       "      <td>3</td>\n",
       "    </tr>\n",
       "    <tr>\n",
       "      <th>4</th>\n",
       "      <td>Creature</td>\n",
       "      <td>Angelic Wall</td>\n",
       "      <td>129671.0</td>\n",
       "      <td>normal</td>\n",
       "      <td>NaN</td>\n",
       "      <td>{1}{W}</td>\n",
       "      <td>2.0</td>\n",
       "      <td>['White']</td>\n",
       "      <td>['W']</td>\n",
       "      <td>Creature — Wall</td>\n",
       "      <td>...</td>\n",
       "      <td>[{'format': 'Commander', 'legality': 'Legal'},...</td>\n",
       "      <td>NaN</td>\n",
       "      <td>http://gatherer.wizards.com/Handlers/Image.ash...</td>\n",
       "      <td>10E</td>\n",
       "      <td>Tenth Edition</td>\n",
       "      <td>fadda48c-6226-5ac5-a2b9-e9170d2017cd</td>\n",
       "      <td>W</td>\n",
       "      <td>2</td>\n",
       "      <td>0.0</td>\n",
       "      <td>5</td>\n",
       "    </tr>\n",
       "  </tbody>\n",
       "</table>\n",
       "<p>5 rows × 44 columns</p>\n",
       "</div>"
      ],
      "text/plain": [
       "    main_types               name  multiverse_id  layout  names  mana_cost  \\\n",
       "0     Creature  Ancestor's Chosen       130550.0  normal    NaN  {5}{W}{W}   \n",
       "1     Creature     Angel of Mercy       129465.0  normal    NaN     {4}{W}   \n",
       "2      Sorcery   Angelic Blessing       129711.0  normal    NaN     {2}{W}   \n",
       "3  Enchantment     Angelic Chorus       129710.0  normal    NaN  {3}{W}{W}   \n",
       "4     Creature       Angelic Wall       129671.0  normal    NaN     {1}{W}   \n",
       "\n",
       "   cmc     colors color_identity                     type  ...  \\\n",
       "0  7.0  ['White']          ['W']  Creature — Human Cleric  ...   \n",
       "1  5.0  ['White']          ['W']         Creature — Angel  ...   \n",
       "2  3.0  ['White']          ['W']                  Sorcery  ...   \n",
       "3  5.0  ['White']          ['W']              Enchantment  ...   \n",
       "4  2.0  ['White']          ['W']          Creature — Wall  ...   \n",
       "\n",
       "                                          legalities source  \\\n",
       "0  [{'format': 'Commander', 'legality': 'Legal'},...    NaN   \n",
       "1  [{'format': 'Commander', 'legality': 'Legal'},...    NaN   \n",
       "2  [{'format': 'Commander', 'legality': 'Legal'},...    NaN   \n",
       "3  [{'format': 'Commander', 'legality': 'Legal'},...    NaN   \n",
       "4  [{'format': 'Commander', 'legality': 'Legal'},...    NaN   \n",
       "\n",
       "                                           image_url  set       set_name  \\\n",
       "0  http://gatherer.wizards.com/Handlers/Image.ash...  10E  Tenth Edition   \n",
       "1  http://gatherer.wizards.com/Handlers/Image.ash...  10E  Tenth Edition   \n",
       "2  http://gatherer.wizards.com/Handlers/Image.ash...  10E  Tenth Edition   \n",
       "3  http://gatherer.wizards.com/Handlers/Image.ash...  10E  Tenth Edition   \n",
       "4  http://gatherer.wizards.com/Handlers/Image.ash...  10E  Tenth Edition   \n",
       "\n",
       "                                     id overall_color mass_rarity commander  \\\n",
       "0  5f8287b1-5bb6-5f4c-ad17-316a40d5bb0c             W           1       0.0   \n",
       "1  57aaebc1-850c-503d-9f6e-bb8d00d8bf7c             W           1       0.0   \n",
       "2  55bd38ca-dc73-5c06-8f80-a6ddd2f44382             W           2       0.0   \n",
       "3  3b77bb52-4181-57f5-b3cd-f3a15b95aa29             W           3       0.0   \n",
       "4  fadda48c-6226-5ac5-a2b9-e9170d2017cd             W           2       0.0   \n",
       "\n",
       "  count_printings  \n",
       "0               3  \n",
       "1              13  \n",
       "2               9  \n",
       "3               3  \n",
       "4               5  \n",
       "\n",
       "[5 rows x 44 columns]"
      ]
     },
     "execution_count": 22,
     "metadata": {},
     "output_type": "execute_result"
    }
   ],
   "source": [
    "# Использую датафрейм с исключенными картами типа Land\n",
    "\n",
    "\n",
    "non_land_df = non_land_df.reset_index()\n",
    "non_land_df.head(5)"
   ]
  },
  {
   "cell_type": "markdown",
   "id": "69f48ef7",
   "metadata": {
    "papermill": {
     "duration": 0.013005,
     "end_time": "2022-06-07T14:33:09.316980",
     "exception": false,
     "start_time": "2022-06-07T14:33:09.303975",
     "status": "completed"
    },
    "tags": []
   },
   "source": [
    "#  4 Для карт, не являющихся землями, определите, какая часть из них даёт ману с помощью своего эффекта. Покажите распределение по типу маны, который дают эти карты. "
   ]
  },
  {
   "cell_type": "code",
   "execution_count": 23,
   "id": "ae43e652",
   "metadata": {
    "execution": {
     "iopub.execute_input": "2022-06-07T14:33:09.345664Z",
     "iopub.status.busy": "2022-06-07T14:33:09.344859Z",
     "iopub.status.idle": "2022-06-07T14:33:09.391728Z",
     "shell.execute_reply": "2022-06-07T14:33:09.390923Z"
    },
    "papermill": {
     "duration": 0.06379,
     "end_time": "2022-06-07T14:33:09.394114",
     "exception": false,
     "start_time": "2022-06-07T14:33:09.330324",
     "status": "completed"
    },
    "tags": []
   },
   "outputs": [],
   "source": [
    "# Чтобы выяснить какие карты дают ману, веду поиск пользуясь регулярным выражением \"add {\", карты не соответствующие условию, помечаются как NaN\n",
    "\n",
    "\n",
    "def ifna(x):\n",
    "    try:\n",
    "        ifna = x\n",
    "        if re.search(r\"add {\", x):\n",
    "            return x\n",
    "        else:\n",
    "            return \"NaN\"\n",
    "    except:\n",
    "        return \"NaN\"\n",
    "non_land_df[\"add_mana\"] = non_land_df[\"text\"].apply(ifna)"
   ]
  },
  {
   "cell_type": "markdown",
   "id": "8a8f28d0",
   "metadata": {
    "papermill": {
     "duration": 0.013004,
     "end_time": "2022-06-07T14:33:09.420796",
     "exception": false,
     "start_time": "2022-06-07T14:33:09.407792",
     "status": "completed"
    },
    "tags": []
   },
   "source": [
    "#  Получилось 49 карт даюших ману с помощью своего эффекта, общее количество карт не являющихся землями равно 23311"
   ]
  },
  {
   "cell_type": "code",
   "execution_count": 24,
   "id": "701eb9a3",
   "metadata": {
    "execution": {
     "iopub.execute_input": "2022-06-07T14:33:09.449698Z",
     "iopub.status.busy": "2022-06-07T14:33:09.448881Z",
     "iopub.status.idle": "2022-06-07T14:33:09.552338Z",
     "shell.execute_reply": "2022-06-07T14:33:09.551280Z"
    },
    "papermill": {
     "duration": 0.120663,
     "end_time": "2022-06-07T14:33:09.554788",
     "exception": false,
     "start_time": "2022-06-07T14:33:09.434125",
     "status": "completed"
    },
    "tags": []
   },
   "outputs": [
    {
     "data": {
      "text/plain": [
       "49"
      ]
     },
     "execution_count": 24,
     "metadata": {},
     "output_type": "execute_result"
    }
   ],
   "source": [
    "#  Избавляюсь от карт со значением NaN так как эти карты меня не интересуют\n",
    "\n",
    "\n",
    "df = non_land_df.set_index('add_mana').drop('NaN').reset_index()\n",
    "df.name.count()  \n",
    "\n",
    "\n",
    "#  Получилось 49 карт даюших ману"
   ]
  },
  {
   "cell_type": "code",
   "execution_count": 25,
   "id": "3ffb37fe",
   "metadata": {
    "execution": {
     "iopub.execute_input": "2022-06-07T14:33:09.589062Z",
     "iopub.status.busy": "2022-06-07T14:33:09.587892Z",
     "iopub.status.idle": "2022-06-07T14:33:09.600328Z",
     "shell.execute_reply": "2022-06-07T14:33:09.599517Z"
    },
    "papermill": {
     "duration": 0.034007,
     "end_time": "2022-06-07T14:33:09.605537",
     "exception": false,
     "start_time": "2022-06-07T14:33:09.571530",
     "status": "completed"
    },
    "tags": []
   },
   "outputs": [
    {
     "data": {
      "text/plain": [
       "0.21020119257003134"
      ]
     },
     "execution_count": 25,
     "metadata": {},
     "output_type": "execute_result"
    }
   ],
   "source": [
    "# Считаю часть карт даёт ману с помощью своего эффекта от общего количества карт\n",
    "pie = df.name.count() / non_land_df.name.count() * 100\n",
    "pie"
   ]
  },
  {
   "cell_type": "markdown",
   "id": "8b5d2112",
   "metadata": {
    "papermill": {
     "duration": 0.014386,
     "end_time": "2022-06-07T14:33:09.640221",
     "exception": false,
     "start_time": "2022-06-07T14:33:09.625835",
     "status": "completed"
    },
    "tags": []
   },
   "source": [
    "#  Соотношение карт которые дают ману с помощью своего эффекта к общему количеству равно 0.21%"
   ]
  },
  {
   "cell_type": "code",
   "execution_count": 26,
   "id": "aa8218f4",
   "metadata": {
    "execution": {
     "iopub.execute_input": "2022-06-07T14:33:09.675396Z",
     "iopub.status.busy": "2022-06-07T14:33:09.674702Z",
     "iopub.status.idle": "2022-06-07T14:33:09.682770Z",
     "shell.execute_reply": "2022-06-07T14:33:09.681796Z"
    },
    "papermill": {
     "duration": 0.029794,
     "end_time": "2022-06-07T14:33:09.685121",
     "exception": false,
     "start_time": "2022-06-07T14:33:09.655327",
     "status": "completed"
    },
    "tags": []
   },
   "outputs": [],
   "source": [
    "# Пользуясь регуляркой отбираю интересующие меня значения с типом маны (B. W. R. G. C. U)\n",
    "\n",
    "\n",
    "def get_mana(x):\n",
    "    try:\n",
    "        results = re.findall(r\"\\{[BWRGCU].*?\\}\", x)\n",
    "        return results\n",
    "    except:\n",
    "        return NaN\n",
    "        \n",
    "        \n",
    "df[\"get_mana\"] = df[\"add_mana\"].apply(get_mana)"
   ]
  },
  {
   "cell_type": "markdown",
   "id": "71f23057",
   "metadata": {
    "papermill": {
     "duration": 0.01375,
     "end_time": "2022-06-07T14:33:09.713032",
     "exception": false,
     "start_time": "2022-06-07T14:33:09.699282",
     "status": "completed"
    },
    "tags": []
   },
   "source": [
    "#  Распределение по типу маны, который дают эти карты"
   ]
  },
  {
   "cell_type": "code",
   "execution_count": 27,
   "id": "ed220428",
   "metadata": {
    "execution": {
     "iopub.execute_input": "2022-06-07T14:33:09.742280Z",
     "iopub.status.busy": "2022-06-07T14:33:09.741854Z",
     "iopub.status.idle": "2022-06-07T14:33:09.748817Z",
     "shell.execute_reply": "2022-06-07T14:33:09.747904Z"
    },
    "papermill": {
     "duration": 0.023821,
     "end_time": "2022-06-07T14:33:09.750783",
     "exception": false,
     "start_time": "2022-06-07T14:33:09.726962",
     "status": "completed"
    },
    "tags": []
   },
   "outputs": [],
   "source": [
    "from collections import Counter\n",
    "counter = Counter()\n",
    "\n",
    "for i in df['get_mana'].values:\n",
    "    counter.update(i)\n",
    "    \n",
    "del counter['{CHAOS}'] #  так как такого типа маны не существует - удаляю\n",
    "\n",
    "counter = pd.Series(counter)"
   ]
  },
  {
   "cell_type": "code",
   "execution_count": 28,
   "id": "c83ea161",
   "metadata": {
    "execution": {
     "iopub.execute_input": "2022-06-07T14:33:09.780519Z",
     "iopub.status.busy": "2022-06-07T14:33:09.779845Z",
     "iopub.status.idle": "2022-06-07T14:33:09.977144Z",
     "shell.execute_reply": "2022-06-07T14:33:09.976387Z"
    },
    "papermill": {
     "duration": 0.214347,
     "end_time": "2022-06-07T14:33:09.979035",
     "exception": false,
     "start_time": "2022-06-07T14:33:09.764688",
     "status": "completed"
    },
    "tags": []
   },
   "outputs": [
    {
     "data": {
      "text/plain": [
       "<AxesSubplot:>"
      ]
     },
     "execution_count": 28,
     "metadata": {},
     "output_type": "execute_result"
    },
    {
     "data": {
      "image/png": "[encoded data removed]",
      "text/plain": [
       "<Figure size 842.4x595.44 with 1 Axes>"
      ]
     },
     "metadata": {
      "needs_background": "light"
     },
     "output_type": "display_data"
    }
   ],
   "source": [
    "counter.plot.barh()"
   ]
  }
 ],
 "metadata": {
  "kernelspec": {
   "display_name": "Python 3",
   "language": "python",
   "name": "python3"
  },
  "language_info": {
   "codemirror_mode": {
    "name": "ipython",
    "version": 3
   },
   "file_extension": ".py",
   "mimetype": "text/x-python",
   "name": "python",
   "nbconvert_exporter": "python",
   "pygments_lexer": "ipython3",
   "version": "3.7.12"
  },
  "papermill": {
   "default_parameters": {},
   "duration": 21.601536,
   "end_time": "2022-06-07T14:33:11.017926",
   "environment_variables": {},
   "exception": null,
   "input_path": "__notebook__.ipynb",
   "output_path": "__notebook__.ipynb",
   "parameters": {},
   "start_time": "2022-06-07T14:32:49.416390",
   "version": "2.3.4"
  }
 },
 "nbformat": 4,
 "nbformat_minor": 5
}
